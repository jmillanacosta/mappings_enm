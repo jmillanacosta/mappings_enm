{
 "cells": [
  {
   "cell_type": "code",
   "execution_count": 1,
   "metadata": {},
   "outputs": [],
   "source": [
    "# Imports\n",
    "import yaml\n",
    "from IPython.display import Markdown, display\n",
    "import urllib\n",
    "import json\n",
    "import re\n",
    "import pandas as pd\n",
    "import numpy as np"
   ]
  },
  {
   "attachments": {},
   "cell_type": "markdown",
   "metadata": {},
   "source": [
    "# Using the Bioportal API to retrieve the mappings of terms in the eNM ontology\n",
    "\n",
    "# Motivation\n",
    "The eNanoMapper imports terms from several ontologies. For example, CHEBI and NPO both contain the class `chemical substance`, but eNanoMapper only imports the one from CHEBI [CHEBI_59999](http://purl.obolibrary.org/obo/CHEBI_59999) and not [NPO_1973](http://purl.bioontology.org/ontology/npo#NPO_1973). How do these homonymous classes map to each other?\n",
    "\n",
    "# Approach\n",
    "Using the programmatic access to Bioportal, it is possible to retrieve the mapping data originating from using LOOM and IRI matching.\n",
    "The mappings will be checked to relevant, upper(ish)-level classes, among all eNanoMapper ontology dependences."
   ]
  },
  {
   "cell_type": "code",
   "execution_count": 2,
   "metadata": {},
   "outputs": [],
   "source": [
    "with open(\"config.yaml\", \"r\") as f:\n",
    "    config = yaml.safe_load(f)\n",
    "    dependencies = [dep.upper() for dep in config[\"dependencies\"]]\n",
    "    API_KEY = config[\"api_key\"]\n",
    "    classes = config[\"classes\"]"
   ]
  },
  {
   "attachments": {},
   "cell_type": "markdown",
   "metadata": {},
   "source": [
    "Setting up a function to use the API ([documentation](https://data.bioontology.org/documentation#Mapping), [example response](https://data.bioontology.org/ontologies/CHEBI/classes/http%3A%2F%2Fpurl.obolibrary.org%2Fobo%2FCHEBI_59999/mappings)):"
   ]
  },
  {
   "cell_type": "code",
   "execution_count": 3,
   "metadata": {},
   "outputs": [],
   "source": [
    "def mappings_lookup(dependencies, iri, source):\n",
    "    \"\"\"\n",
    "    This function returns the bioportal mapping of a given IRI in a given source ontology.\n",
    "\n",
    "    Parameters:\n",
    "    dependencies (list): List of dependencies to match the mappings against.\n",
    "    iri (str): IRI of the term for which to retrieve mappings.\n",
    "    source (str): Source ontology for the term.\n",
    "\n",
    "    Returns:\n",
    "    matches: List of matching mappings.\n",
    "    \"\"\"\n",
    "    print(f\"IRI: {iri}\")\n",
    "    f_iri = urllib.parse.quote(iri, safe='')\n",
    "    for dependency in dependencies:\n",
    "        rq = f\"https://data.bioontology.org/ontologies/{source}/classes/{f_iri}/mappings\"\n",
    "        opener = urllib.request.build_opener()\n",
    "        opener.addheaders = [('Authorization', 'apikey token=' + API_KEY)]\n",
    "        try:\n",
    "            r = json.loads(opener.open(rq).read())\n",
    "        except Exception as e:\n",
    "            pass\n",
    "        else:\n",
    "            classes = [i[\"classes\"] for i in r]\n",
    "            matches = [classes[i] for i in range(len(classes))]\n",
    "            matches = [matches[i][j][\"@id\"] for i in range(len(matches)) for j in range(0, len(matches[i]))]\n",
    "            matches = [match for match in matches if match!=iri if any(re.findall(dep, match) for dep in dependencies)]\n",
    "            return matches"
   ]
  },
  {
   "attachments": {},
   "cell_type": "markdown",
   "metadata": {},
   "source": [
    "Using the function to retrieve the mappings for the terms specified in te [config file](config.yaml) and saving it to a JSON:"
   ]
  },
  {
   "cell_type": "code",
   "execution_count": 4,
   "metadata": {},
   "outputs": [
    {
     "name": "stdout",
     "output_type": "stream",
     "text": [
      "IRI: http://purl.obolibrary.org/obo/CHEBI_59999\n",
      "IRI: http://purl.obolibrary.org/obo/CHEBI_23367\n",
      "IRI: http://purl.obolibrary.org/obo/BFO_0000040\n",
      "IRI: http://purl.bioontology.org/ontology/npo#NPO_199\n",
      "IRI: http://purl.bioontology.org/ontology/npo#NPO_707\n"
     ]
    }
   ],
   "source": [
    "mappings = {term:mappings_lookup(dependencies=dependencies, iri=classes[term][1], source = classes[term][0]) for term in classes}\n",
    "for term in mappings:\n",
    "    mappings[term] = list(np.unique(mappings[term]))\n",
    "with open(\"mappings.json\", \"w\") as outfile:\n",
    "    json.dump(mappings, outfile)"
   ]
  },
  {
   "attachments": {},
   "cell_type": "markdown",
   "metadata": {},
   "source": [
    "Saving the result to a table for the repo [README.md](README.md):"
   ]
  },
  {
   "cell_type": "code",
   "execution_count": 5,
   "metadata": {},
   "outputs": [],
   "source": [
    "pd.DataFrame.from_dict(mappings, orient='index').transpose().to_markdown(\"README.md\")"
   ]
  }
 ],
 "metadata": {
  "kernelspec": {
   "display_name": "base",
   "language": "python",
   "name": "python3"
  },
  "language_info": {
   "codemirror_mode": {
    "name": "ipython",
    "version": 3
   },
   "file_extension": ".py",
   "mimetype": "text/x-python",
   "name": "python",
   "nbconvert_exporter": "python",
   "pygments_lexer": "ipython3",
   "version": "3.9.13"
  },
  "orig_nbformat": 4,
  "vscode": {
   "interpreter": {
    "hash": "267a425285626f162e8dbac0e72a3103fc15fe1856529c1140c5b196b5352764"
   }
  }
 },
 "nbformat": 4,
 "nbformat_minor": 2
}
