{
 "cells": [
  {
   "cell_type": "code",
   "execution_count": 22,
   "metadata": {},
   "outputs": [],
   "source": [
    "# Imports\n",
    "import yaml\n",
    "from IPython.display import Markdown, display\n",
    "import urllib\n",
    "import json\n",
    "import re"
   ]
  },
  {
   "attachments": {},
   "cell_type": "markdown",
   "metadata": {},
   "source": [
    "# Using the Bioportal API to retrieve the mappings of terms in the eNM ontology\n",
    "\n",
    "# Motivation\n",
    "The eNanoMapper imports terms from several ontologies. For example, CHEBI and NPO both contain the class `chemical substance`, but eNanoMapper only imports the one from CHEBI [CHEBI_59999](http://purl.obolibrary.org/obo/CHEBI_59999) and not [NPO_1973](http://purl.bioontology.org/ontology/npo#NPO_1973). How do these homonymous classes map to each other?\n",
    "\n",
    "# Approach\n",
    "Using the programmatic access to Bioportal, it is possible to retrieve the mapping data originating from using LOOM. This seems to be the only way to have access to this ontology mapping tool nowadays.\n",
    "The mappings will be checked to relevant, upper(ish)-level classes, among all eNanoMapper ontology dependences."
   ]
  },
  {
   "cell_type": "code",
   "execution_count": 86,
   "metadata": {},
   "outputs": [
    {
     "data": {
      "text/markdown": [
       "**Dependencies** \n",
       "\n",
       "aopo, bao, bfo, bto, ccont, CHEBI, cheminf, chmo, cito, clo, efo, envo, fabio, go, iao, ncit, npo, oae, obcs, obi, pato, ro, sio, uberon, uo"
      ],
      "text/plain": [
       "<IPython.core.display.Markdown object>"
      ]
     },
     "metadata": {},
     "output_type": "display_data"
    },
    {
     "name": "stdout",
     "output_type": "stream",
     "text": [
      "{'chemical substance': 'http://purl.obolibrary.org/obo/CHEBI_59999', 'molecular entity': 'http://purl.obolibrary.org/obo/CHEBI_23367', 'material entity': 'http://purl.obolibrary.org/obo/BFO_0000040', 'nanomaterial': 'http://purl.bioontology.org/ontology/npo#NPO_199', 'nanoparticle': 'http://purl.bioontology.org/ontology/npo#NPO_707'}\n"
     ]
    }
   ],
   "source": [
    "with open(\"config.yaml\", \"r\") as f:\n",
    "    config = yaml.safe_load(f)\n",
    "    dependencies = config[\"dependencies\"]\n",
    "    display(Markdown(\"**Dependencies** \\n\\n\" + \", \".join([i for i in dependencies])))\n",
    "    API_KEY = config[\"api_key\"]\n",
    "    classes = config[\"classes\"]\n",
    "print(classes)"
   ]
  },
  {
   "attachments": {},
   "cell_type": "markdown",
   "metadata": {},
   "source": [
    "Setting up a function to use the API ([documentation](https://data.bioontology.org/documentation#Mapping), [example response](https://data.bioontology.org/ontologies/CHEBI/classes/http%3A%2F%2Fpurl.obolibrary.org%2Fobo%2FCHEBI_59999/mappings)):"
   ]
  },
  {
   "cell_type": "code",
   "execution_count": null,
   "metadata": {},
   "outputs": [],
   "source": [
    "def mappings_lookup(dependencies, iri):\n",
    "    f_iri = urllib.parse.quote(iri, safe='')\n",
    "    for dependency in dependencies:\n",
    "        rq = f\"https://data.bioontology.org/ontologies/{dependency}/classes/{f_iri}/mappings\"\n",
    "        opener = urllib.request.build_opener()\n",
    "        opener.addheaders = [('Authorization', 'apikey token=' + API_KEY)]\n",
    "        try:\n",
    "            r = json.loads(opener.open(rq).read())\n",
    "        except Exception as e:\n",
    "            pass\n",
    "        else:\n",
    "            classes = [i[\"classes\"] for i in r]\n",
    "            matches = [classes[i] for i in range(len(classes))]\n",
    "            matches = [matches[i][j][\"@id\"] for i in range(len(matches)) for j in range(0, len(matches[i]))]\n",
    "            matches = [i for i in matches if i!=iri if any(re.match(dep, iri) for dep in dependencies)]\n",
    "      \n",
    "                \n"
   ]
  },
  {
   "cell_type": "code",
   "execution_count": 107,
   "metadata": {},
   "outputs": [
    {
     "name": "stdout",
     "output_type": "stream",
     "text": [
      "IRI: http://purl.obolibrary.org/obo/CHEBI_59999\n",
      "\n",
      "- Dependency :CHEBI\n",
      "- Matches from https://data.bioontology.org/ontologies/CHEBI/classes/http%3A%2F%2Fpurl.obolibrary.org%2Fobo%2FCHEBI_59999/mappings:\n",
      "['http://vocabs.lter-europe.net/EnvThes/20799', 'http://sbmi.uth.tmc.edu/ontology/ochv#C0220806', 'http://purl.allotrope.org/ontologies/material#AFM_0001097', 'http://sweet.jpl.nasa.gov/2.3/matr.owl#ChemicalSubstance', 'http://purl.bioontology.org/ontology/npo#NPO_1973', 'http://www.w3.org/2001/sw/hcls/ns/transmed/TMO_0063', 'http://purl.jp/bio/4/id/200906093177020685', 'http://purl.bmicc.cn/ontology/ICD11CN/XM4FU3', 'http://www.co-ode.org/ontologies/galen#ChemicalSubstance', 'http://semanticscience.org/resource/SIO_011126', 'http://semanticscience.org/resource/SIO_011126', 'http://semanticscience.org/resource/SIO_011126', 'http://semanticscience.org/resource/SIO_011126', 'http://semanticscience.org/resource/SIO_011126', 'http://semanticscience.org/resource/SIO_011126', 'http://semanticscience.org/resource/SIO_011126', 'http://semanticscience.org/resource/SIO_011126', 'http://www.ifomis.org/acgt/1.0#ChemicalSubstance', 'http://sweetontology.net/matr/ChemicalSubstance', 'http://semanticscience.org/resource/CHEMINF_000266', 'http://vocabs.lter-europe.net/EnvThes/20748', 'http://doe-generated-ontology.com/OntoPneumo#SubstanceChimique', 'http://purl.bioontology.org/ontology/HL7/C0220806', 'http://snomed.info/id/441900009', 'http://snomed.info/id/441900009', 'http://snomed.info/id/441900009', 'http://snomed.info/id/441900009', 'http://snomed.info/id/441900009', 'http://snomed.info/id/441900009', 'http://snomed.info/id/441900009', 'http://snomed.info/id/441900009', 'http://snomed.info/id/441900009', 'http://snomed.info/id/441900009', 'http://semanticscience.org/resource/ChemicalSubstance', 'http://semanticscience.org/resource/ChemicalSubstance', 'http://purl.obolibrary.org/obo/sep_00104']\n",
      "IRI: http://purl.obolibrary.org/obo/CHEBI_23367\n",
      "\n",
      "- Dependency :CHEBI\n",
      "- Matches from https://data.bioontology.org/ontologies/CHEBI/classes/http%3A%2F%2Fpurl.obolibrary.org%2Fobo%2FCHEBI_23367/mappings:\n",
      "['http://purl.org/obo/owl/CHEBI#CHEBI_23367', 'http://purl.org/obo/owl/CHEBI#CHEBI_23367', 'http://purl.org/obo/owl/CHEBI#CHEBI_23367', 'http://scai.fraunhofer.de/HuPSON#SCAIVPH_00001152', 'http://purl.obolibrary.org/obo/BiPOm#molecular_entity', 'http://purl.obolibrary.org/obo/CLAO_0001253', 'http://www.semanticweb.org/ontologies/2010/5/22/Ontology1277229984000.owl#HPI:0000208', 'http://scai.fraunhofer.de/NDDUO#Molecular_entities', 'http://scai.fraunhofer.de/NDDUO#Molecular_entities', 'http://purl.obolibrary.org/obo/COB_0000013', 'http://purl.obolibrary.org/obo/RT_0000279', 'https://w3id.org/biolink/vocab/MolecularEntity', 'http://www.semanticweb.org/DMO#molecular_entity', 'http://www.w3.org/2001/sw/hcls/ns/transmed/TMO_0034', 'http://www.bioassayontology.org/bao#BAO_0003043', 'http://www.bioassayontology.org/bao#BAO_0003043', 'http://www.bioassayontology.org/bao#BAO_0003043', 'http://www.bootstrep.eu/ontology/GRO#MolecularEntity', 'http://www.bootstrep.eu/ontology/GRO#MolecularEntity', 'http://purl.obolibrary.org/obo/MS_1000881', 'http://purl.obolibrary.org/obo/MS_1000881', 'http://scai.fraunhofer.de/MSOntology#Molecular_entity', 'http://purl.obolibrary.org/obo/LEPAO_0000010']\n",
      "IRI: http://purl.obolibrary.org/obo/BFO_0000040\n",
      "IRI: http://purl.bioontology.org/ontology/npo#NPO_199\n",
      "IRI: http://purl.bioontology.org/ontology/npo#NPO_707\n"
     ]
    }
   ],
   "source": [
    "mappings = {term:mappings_lookup(dependencies, classes[term]) for term in classes}\n",
    "with open(\"mappings.json\", \"w\") as outfile:\n",
    "    json.dump(mappings, outfile)\n"
   ]
  },
  {
   "cell_type": "markdown",
   "metadata": {},
   "source": []
  }
 ],
 "metadata": {
  "kernelspec": {
   "display_name": "base",
   "language": "python",
   "name": "python3"
  },
  "language_info": {
   "codemirror_mode": {
    "name": "ipython",
    "version": 3
   },
   "file_extension": ".py",
   "mimetype": "text/x-python",
   "name": "python",
   "nbconvert_exporter": "python",
   "pygments_lexer": "ipython3",
   "version": "3.9.13"
  },
  "orig_nbformat": 4,
  "vscode": {
   "interpreter": {
    "hash": "267a425285626f162e8dbac0e72a3103fc15fe1856529c1140c5b196b5352764"
   }
  }
 },
 "nbformat": 4,
 "nbformat_minor": 2
}
