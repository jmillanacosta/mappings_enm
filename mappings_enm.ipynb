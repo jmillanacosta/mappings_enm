{
 "cells": [
  {
   "cell_type": "code",
   "execution_count": 22,
   "metadata": {},
   "outputs": [],
   "source": [
    "# Imports\n",
    "import yaml\n",
    "from IPython.display import Markdown, display\n",
    "import urllib\n",
    "import json\n",
    "import re"
   ]
  },
  {
   "attachments": {},
   "cell_type": "markdown",
   "metadata": {},
   "source": [
    "# Using the Bioportal API to retrieve the mappings of terms in the eNM ontology\n",
    "\n",
    "# Motivation\n",
    "The eNanoMapper imports terms from several ontologies. For example, CHEBI and NPO both contain the class `chemical substance`, but eNanoMapper only imports the one from CHEBI [CHEBI_59999](http://purl.obolibrary.org/obo/CHEBI_59999) and not [NPO_1973](http://purl.bioontology.org/ontology/npo#NPO_1973). How do these homonymous classes map to each other?\n",
    "\n",
    "# Approach\n",
    "Using the programmatic access to Bioportal, it is possible to retrieve the mapping data originating from using LOOM. This seems to be the only way to have access to this ontology mapping tool nowadays.\n",
    "The mappings will be checked to relevant, upper(ish)-level classes, among all eNanoMapper ontology dependences."
   ]
  },
  {
   "cell_type": "code",
   "execution_count": 4,
   "metadata": {},
   "outputs": [
    {
     "data": {
      "text/markdown": [
       "**Dependencies** \n",
       "\n",
       "aopo, bao, bfo, bto, ccont, CHEBI, cheminf, chmo, cito, clo, efo, envo, fabio, go, iao, ncit, npo, oae, obcs, obi, pato, ro, sio, uberon, uo"
      ],
      "text/plain": [
       "<IPython.core.display.Markdown object>"
      ]
     },
     "metadata": {},
     "output_type": "display_data"
    }
   ],
   "source": [
    "with open(\"config.yaml\", \"r\") as f:\n",
    "    config = yaml.safe_load(f)\n",
    "    dependencies = config[\"dependencies\"]\n",
    "    display(Markdown(\"**Dependencies** \\n\\n\" + \", \".join([i for i in dependencies])))\n",
    "    API_KEY = config[\"api_key\"]\n"
   ]
  },
  {
   "attachments": {},
   "cell_type": "markdown",
   "metadata": {},
   "source": [
    "Setting up a function to use the API ([documentation](https://data.bioontology.org/documentation#Mapping)):"
   ]
  },
  {
   "cell_type": "code",
   "execution_count": 23,
   "metadata": {},
   "outputs": [
    {
     "name": "stdout",
     "output_type": "stream",
     "text": [
      "IRI: http://purl.obolibrary.org/obo/CHEBI_59999\n",
      "Dependency: CHEBI has mappings for this IRI:\n"
     ]
    }
   ],
   "source": [
    "def mappings_lookup(dependencies, iri):\n",
    "    print(f\"IRI: {iri}\")\n",
    "    iri = urllib.parse.quote(iri, safe='')\n",
    "    for dependency in dependencies:\n",
    "        rq = f\"https://data.bioontology.org/ontologies/{dependency}/classes/{iri}/mappings\"\n",
    "        opener = urllib.request.build_opener()\n",
    "        opener.addheaders = [('Authorization', 'apikey token=' + API_KEY)]\n",
    "        try:\n",
    "            r = json.loads(opener.open(rq).read())\n",
    "        except Exception as e:\n",
    "            pass\n",
    "        else:\n",
    "            print(f\"Dependency: {dependency} has mappings for this IRI:\")\n",
    "            # Retrieve content\n",
    "\n",
    "mappings_lookup(dependencies, \"http://purl.obolibrary.org/obo/CHEBI_59999\")"
   ]
  }
 ],
 "metadata": {
  "kernelspec": {
   "display_name": "base",
   "language": "python",
   "name": "python3"
  },
  "language_info": {
   "codemirror_mode": {
    "name": "ipython",
    "version": 3
   },
   "file_extension": ".py",
   "mimetype": "text/x-python",
   "name": "python",
   "nbconvert_exporter": "python",
   "pygments_lexer": "ipython3",
   "version": "3.9.13"
  },
  "orig_nbformat": 4,
  "vscode": {
   "interpreter": {
    "hash": "267a425285626f162e8dbac0e72a3103fc15fe1856529c1140c5b196b5352764"
   }
  }
 },
 "nbformat": 4,
 "nbformat_minor": 2
}
