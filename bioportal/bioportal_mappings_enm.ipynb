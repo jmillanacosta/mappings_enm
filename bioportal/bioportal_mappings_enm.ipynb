{
 "cells": [
  {
   "cell_type": "code",
   "execution_count": 1,
   "metadata": {},
   "outputs": [],
   "source": [
    "# Imports\n",
    "import yaml\n",
    "import urllib\n",
    "import json\n",
    "import pandas as pd"
   ]
  },
  {
   "attachments": {},
   "cell_type": "markdown",
   "metadata": {},
   "source": [
    "# Using the Bioportal API to retrieve the mappings of terms in the eNM ontology\n",
    "\n",
    "# Motivation\n",
    "The eNanoMapper imports terms from several ontologies. For example, CHEBI and NPO both contain the class `chemical substance`, but eNanoMapper only imports the one from CHEBI [CHEBI_59999](http://purl.obolibrary.org/obo/CHEBI_59999) and not [NPO_1973](http://purl.bioontology.org/ontology/npo#NPO_1973). This notebooks checks whether the same 'mapping' is also present in Bioportal.\n",
    "\n",
    "# Approach\n",
    "Using the programmatic access to Bioportal, it is possible to retrieve the Bioportal mapping data (_LOOM_ and IRI matching)."
   ]
  },
  {
   "cell_type": "code",
   "execution_count": 2,
   "metadata": {},
   "outputs": [],
   "source": [
    "with open(\"../config.yaml\", \"r\") as f:\n",
    "    config = yaml.safe_load(f)\n",
    "    dependencies = [dep.upper() for dep in config[\"dependencies\"]]\n",
    "    API_KEY = config[\"bioportal_api_key\"]\n",
    "    classes = config[\"classes\"]"
   ]
  },
  {
   "attachments": {},
   "cell_type": "markdown",
   "metadata": {},
   "source": [
    "Setting up a function to use the API ([documentation](https://data.bioontology.org/documentation#Mapping), [example response](https://data.bioontology.org/ontologies/CHEBI/classes/http%3A%2F%2Fpurl.obolibrary.org%2Fobo%2FCHEBI_59999/mappings)):"
   ]
  },
  {
   "cell_type": "code",
   "execution_count": 3,
   "metadata": {},
   "outputs": [],
   "source": [
    "def mappings_lookup(dependencies, classes,):\n",
    "    iri = classes['kept']\n",
    "    removed = classes['removed']\n",
    "    source = \"\"\n",
    "    for d in dependencies:\n",
    "        if d.casefold() in iri.casefold():\n",
    "            source = d\n",
    "    if source == \"\":\n",
    "        print(f'No mappings found for {iri}')\n",
    "        exit(1)\n",
    "    f_iri = urllib.parse.quote(iri, safe='')\n",
    "    rq = f\"https://data.bioontology.org/ontologies/{source}/classes/{f_iri}/mappings\"\n",
    "    opener = urllib.request.build_opener()\n",
    "    opener.addheaders = [('Authorization', 'apikey token=' + API_KEY)]\n",
    "    try:\n",
    "        r = json.loads(opener.open(rq).read())\n",
    "    except Exception as e:\n",
    "        print(e)\n",
    "        pass\n",
    "    else:\n",
    "        classes = [i[\"classes\"] for i in r]\n",
    "        matches = [classes[i] for i in range(len(classes))]\n",
    "        matches = [matches[i][j][\"@id\"] for i in range(len(matches)) for j in range(0, len(matches[i]))]\n",
    "        if removed in matches:\n",
    "            return True\n",
    "        else:\n",
    "            return False"
   ]
  },
  {
   "attachments": {},
   "cell_type": "markdown",
   "metadata": {},
   "source": [
    "Using the function to retrieve the mappings for the terms specified in te [config file](config.yaml) and saving it to a JSON:"
   ]
  },
  {
   "cell_type": "code",
   "execution_count": 4,
   "metadata": {},
   "outputs": [
    {
     "name": "stdout",
     "output_type": "stream",
     "text": [
      "No mappings found for http://purl.enanomapper.org/onto/ENM_0000089\n",
      "HTTP Error 404: Not Found\n",
      "HTTP Error 404: Not Found\n"
     ]
    }
   ],
   "source": [
    "result = []\n",
    "for term in classes.keys():\n",
    "    in_bioportal = mappings_lookup(dependencies=dependencies, classes=classes[term], ) \n",
    "    result.append([classes[term]['kept'], classes[term]['removed'], in_bioportal])\n",
    "result = pd.DataFrame(result, columns = ['kept', 'removed', 'in_bioportal'])"
   ]
  },
  {
   "cell_type": "code",
   "execution_count": 5,
   "metadata": {},
   "outputs": [
    {
     "data": {
      "text/html": [
       "<div>\n",
       "<style scoped>\n",
       "    .dataframe tbody tr th:only-of-type {\n",
       "        vertical-align: middle;\n",
       "    }\n",
       "\n",
       "    .dataframe tbody tr th {\n",
       "        vertical-align: top;\n",
       "    }\n",
       "\n",
       "    .dataframe thead th {\n",
       "        text-align: right;\n",
       "    }\n",
       "</style>\n",
       "<table border=\"1\" class=\"dataframe\">\n",
       "  <thead>\n",
       "    <tr style=\"text-align: right;\">\n",
       "      <th></th>\n",
       "      <th>kept</th>\n",
       "      <th>removed</th>\n",
       "      <th>in_bioportal</th>\n",
       "    </tr>\n",
       "  </thead>\n",
       "  <tbody>\n",
       "    <tr>\n",
       "      <th>0</th>\n",
       "      <td>http://purl.bioontology.org/ontology/npo#NPO_401</td>\n",
       "      <td>http://purl.obolibrary.org/obo/CHEBI_50825</td>\n",
       "      <td>True</td>\n",
       "    </tr>\n",
       "    <tr>\n",
       "      <th>1</th>\n",
       "      <td>http://purl.bioontology.org/ontology/npo#NPO_1542</td>\n",
       "      <td>http://purl.obolibrary.org/obo/CHEBI_50836</td>\n",
       "      <td>True</td>\n",
       "    </tr>\n",
       "    <tr>\n",
       "      <th>2</th>\n",
       "      <td>http://purl.bioontology.org/ontology/npo#NPO_729</td>\n",
       "      <td>http://purl.obolibrary.org/obo/CHEBI_50822</td>\n",
       "      <td>True</td>\n",
       "    </tr>\n",
       "    <tr>\n",
       "      <th>3</th>\n",
       "      <td>http://purl.bioontology.org/ontology/npo#NPO_1892</td>\n",
       "      <td>http://purl.obolibrary.org/obo/CHEBI_50826</td>\n",
       "      <td>True</td>\n",
       "    </tr>\n",
       "    <tr>\n",
       "      <th>4</th>\n",
       "      <td>http://purl.bioontology.org/ontology/npo#NPO_1893</td>\n",
       "      <td>http://purl.obolibrary.org/obo/CHEBI_52522</td>\n",
       "      <td>True</td>\n",
       "    </tr>\n",
       "    <tr>\n",
       "      <th>5</th>\n",
       "      <td>http://purl.enanomapper.org/onto/ENM_0000089</td>\n",
       "      <td>http://www.bioassayontology.org/bao#BAO_0002135</td>\n",
       "      <td>None</td>\n",
       "    </tr>\n",
       "    <tr>\n",
       "      <th>6</th>\n",
       "      <td>http://purl.obolibrary.org/obo/OBI_0000891</td>\n",
       "      <td>http://www.bioassayontology.org/bao#BAO_0002805</td>\n",
       "      <td>True</td>\n",
       "    </tr>\n",
       "    <tr>\n",
       "      <th>7</th>\n",
       "      <td>http://purl.obolibrary.org/obo/BTO_0000018</td>\n",
       "      <td>http://www.ebi.ac.uk/efo/EFO_0001086</td>\n",
       "      <td>False</td>\n",
       "    </tr>\n",
       "    <tr>\n",
       "      <th>8</th>\n",
       "      <td>http://purl.bioontology.org/ontology/npo#NPO_639</td>\n",
       "      <td>http://purl.obolibrary.org/obo/ENVO_00010506</td>\n",
       "      <td>True</td>\n",
       "    </tr>\n",
       "    <tr>\n",
       "      <th>9</th>\n",
       "      <td>http://www.bioassayontology.org/bao#BAO_0002145</td>\n",
       "      <td>http://purl.bioontology.org/ontology/npo#NPO_1196</td>\n",
       "      <td>True</td>\n",
       "    </tr>\n",
       "    <tr>\n",
       "      <th>10</th>\n",
       "      <td>http://www.bioassayontology.org/bao#BAO_0000190</td>\n",
       "      <td>http://purl.bioontology.org/ontology/npo#NPO_1195</td>\n",
       "      <td>True</td>\n",
       "    </tr>\n",
       "    <tr>\n",
       "      <th>11</th>\n",
       "      <td>http://purl.obolibrary.org/obo/CHEBI_52855</td>\n",
       "      <td>http://purl.bioontology.org/ontology/npo#NPO_1536</td>\n",
       "      <td>True</td>\n",
       "    </tr>\n",
       "    <tr>\n",
       "      <th>12</th>\n",
       "      <td>http://purl.obolibrary.org/obo/IAO_0000120</td>\n",
       "      <td>http://purl.bioontology.org/ontology/npo#NPO_1424</td>\n",
       "      <td>None</td>\n",
       "    </tr>\n",
       "    <tr>\n",
       "      <th>13</th>\n",
       "      <td>http://purl.bioontology.org/ontology/npo#NPO_1417</td>\n",
       "      <td>http://purl.bioontology.org/ontology/npo#NPO_1953</td>\n",
       "      <td>False</td>\n",
       "    </tr>\n",
       "  </tbody>\n",
       "</table>\n",
       "</div>"
      ],
      "text/plain": [
       "                                                 kept  \\\n",
       "0    http://purl.bioontology.org/ontology/npo#NPO_401   \n",
       "1   http://purl.bioontology.org/ontology/npo#NPO_1542   \n",
       "2    http://purl.bioontology.org/ontology/npo#NPO_729   \n",
       "3   http://purl.bioontology.org/ontology/npo#NPO_1892   \n",
       "4   http://purl.bioontology.org/ontology/npo#NPO_1893   \n",
       "5        http://purl.enanomapper.org/onto/ENM_0000089   \n",
       "6          http://purl.obolibrary.org/obo/OBI_0000891   \n",
       "7          http://purl.obolibrary.org/obo/BTO_0000018   \n",
       "8    http://purl.bioontology.org/ontology/npo#NPO_639   \n",
       "9     http://www.bioassayontology.org/bao#BAO_0002145   \n",
       "10    http://www.bioassayontology.org/bao#BAO_0000190   \n",
       "11         http://purl.obolibrary.org/obo/CHEBI_52855   \n",
       "12         http://purl.obolibrary.org/obo/IAO_0000120   \n",
       "13  http://purl.bioontology.org/ontology/npo#NPO_1417   \n",
       "\n",
       "                                              removed in_bioportal  \n",
       "0          http://purl.obolibrary.org/obo/CHEBI_50825         True  \n",
       "1          http://purl.obolibrary.org/obo/CHEBI_50836         True  \n",
       "2          http://purl.obolibrary.org/obo/CHEBI_50822         True  \n",
       "3          http://purl.obolibrary.org/obo/CHEBI_50826         True  \n",
       "4          http://purl.obolibrary.org/obo/CHEBI_52522         True  \n",
       "5     http://www.bioassayontology.org/bao#BAO_0002135         None  \n",
       "6     http://www.bioassayontology.org/bao#BAO_0002805         True  \n",
       "7                http://www.ebi.ac.uk/efo/EFO_0001086        False  \n",
       "8        http://purl.obolibrary.org/obo/ENVO_00010506         True  \n",
       "9   http://purl.bioontology.org/ontology/npo#NPO_1196         True  \n",
       "10  http://purl.bioontology.org/ontology/npo#NPO_1195         True  \n",
       "11  http://purl.bioontology.org/ontology/npo#NPO_1536         True  \n",
       "12  http://purl.bioontology.org/ontology/npo#NPO_1424         None  \n",
       "13  http://purl.bioontology.org/ontology/npo#NPO_1953        False  "
      ]
     },
     "execution_count": 5,
     "metadata": {},
     "output_type": "execute_result"
    }
   ],
   "source": [
    "result.to_csv('../results/in_bioportal.csv', index=False)\n",
    "result"
   ]
  },
  {
   "attachments": {},
   "cell_type": "markdown",
   "metadata": {},
   "source": []
  }
 ],
 "metadata": {
  "kernelspec": {
   "display_name": "base",
   "language": "python",
   "name": "python3"
  },
  "language_info": {
   "codemirror_mode": {
    "name": "ipython",
    "version": 3
   },
   "file_extension": ".py",
   "mimetype": "text/x-python",
   "name": "python",
   "nbconvert_exporter": "python",
   "pygments_lexer": "ipython3",
   "version": "3.9.13"
  },
  "orig_nbformat": 4,
  "vscode": {
   "interpreter": {
    "hash": "267a425285626f162e8dbac0e72a3103fc15fe1856529c1140c5b196b5352764"
   }
  }
 },
 "nbformat": 4,
 "nbformat_minor": 2
}
